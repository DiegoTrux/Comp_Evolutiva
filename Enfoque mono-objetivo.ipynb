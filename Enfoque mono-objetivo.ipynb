{
  "nbformat": 4,
  "nbformat_minor": 0,
  "metadata": {
    "colab": {
      "provenance": [],
      "toc_visible": true
    },
    "kernelspec": {
      "name": "python3",
      "display_name": "Python 3"
    },
    "language_info": {
      "name": "python"
    }
  },
  "cells": [
    {
      "cell_type": "markdown",
      "source": [
        "## librerias a usar\n",
        "\n"
      ],
      "metadata": {
        "id": "oxOEJWu9c_qh"
      }
    },
    {
      "cell_type": "code",
      "execution_count": null,
      "metadata": {
        "id": "Z1Am8jYEc-Q9"
      },
      "outputs": [],
      "source": [
        "import sys\n",
        "import time\n",
        "import numpy as np\n",
        "from random import shuffle, random, sample, randint, randrange, uniform, randint\n",
        "#from random import randint\n",
        "#from random import permutation\n",
        "from copy import deepcopy\n",
        "import matplotlib.pyplot as plt"
      ]
    },
    {
      "cell_type": "markdown",
      "source": [
        "## clase Item"
      ],
      "metadata": {
        "id": "8VsPhmpRdYw2"
      }
    },
    {
      "cell_type": "code",
      "source": [
        "class Item(object):\n",
        "    def __init__(self, name, size):\n",
        "        self.name  = name  # Valor del item. La suma de los valores de los items es lo que se quiere maximizar\n",
        "        self.size = size # Peso del item. Se impone una restriccion en el peso maximo de una mochila"
      ],
      "metadata": {
        "id": "ss_TxPqmdYGn"
      },
      "execution_count": null,
      "outputs": []
    },
    {
      "cell_type": "markdown",
      "source": [
        "## Clase Individuo"
      ],
      "metadata": {
        "id": "c7no4TFjhqPq"
      }
    },
    {
      "cell_type": "code",
      "source": [
        "class individual:\n",
        "    def __init__(self, chromosome):\n",
        "        # Asegura que el cromosoma es una copia de la matriz de entrada\n",
        "        self.chromosome = np.array(chromosome, copy=True)\n",
        "        self.fitness = -1  # -1 indica que el individuo no ha sido evaluado\n",
        "\n",
        "    def crossover_onepoint(self, other):\n",
        "        \"\"\"Retorna dos nuevos individuos del cruzamiento de un punto entre individuos self y other.\"\"\"\n",
        "        # Selecciona un punto de corte al azar en la dimensión de los ítems\n",
        "        c = randrange(self.chromosome.shape[1])\n",
        "        # Realiza el cruzamiento de un punto en la dimensión de los ítems\n",
        "        new_chromosome1 = np.hstack((self.chromosome[:, :c], other.chromosome[:, c:]))\n",
        "        new_chromosome2 = np.hstack((other.chromosome[:, :c], self.chromosome[:, c:]))\n",
        "        return [individual(new_chromosome1), individual(new_chromosome2)]\n",
        "\n",
        "    def crossover_uniform(self, other):\n",
        "        \"\"\"Retorna dos nuevos individuos del cruzamiento uniforme entre self y other.\"\"\"\n",
        "        mask = np.random.rand(*self.chromosome.shape) < 0.5\n",
        "        new_chromosome1 = np.where(mask, self.chromosome, other.chromosome)\n",
        "        new_chromosome2 = np.where(mask, other.chromosome, self.chromosome)\n",
        "        return [individual(new_chromosome1), individual(new_chromosome2)]\n",
        "\n",
        "    def mutation_flip(self):\n",
        "        \"\"\"Cambia aleatoriamente el estado de asignación de un ítem en un bin.\"\"\"\n",
        "        new_chromosome = deepcopy(self.chromosome)\n",
        "        # Escoge un bin y un ítem al azar para mutar\n",
        "        mutbin = randrange(new_chromosome.shape[0])\n",
        "        mutitem = randrange(new_chromosome.shape[1])\n",
        "        # Cambia el estado de asignación (de 0 a 1 o de 1 a 0)\n",
        "        new_chromosome[mutbin, mutitem] = 1 - new_chromosome[mutbin, mutitem]\n",
        "        return individual(new_chromosome)\n",
        "\n",
        "    def mutation_multiflip(self, num_mutations=50):\n",
        "        new_chromosome = deepcopy(self.chromosome)\n",
        "        for _ in range(num_mutations):\n",
        "            # Escoge un bin y un ítem al azar para mutar\n",
        "            mutbin = randrange(new_chromosome.shape[0])\n",
        "            mutitem = randrange(new_chromosome.shape[1])\n",
        "\n",
        "            # Cambia el estado de asignación (de 0 a 1 o de 1 a 0)\n",
        "            new_chromosome[mutbin, mutitem] = 1 - new_chromosome[mutbin, mutitem]\n",
        "\n",
        "        return individual(new_chromosome)"
      ],
      "metadata": {
        "id": "YmrlObsohtI5"
      },
      "execution_count": null,
      "outputs": []
    },
    {
      "cell_type": "markdown",
      "source": [
        "## función get_fitness"
      ],
      "metadata": {
        "id": "QUKKZzIho0l8"
      }
    },
    {
      "cell_type": "code",
      "source": [
        "def get_fitness(chromosome, items, bin_size, num_bins):\n",
        "    \"\"\"Retorna los fitness del cromosoma pasado: suma total del tamaño de los ítems no asignados y suma total de áreas no usadas en cada bin.\"\"\"\n",
        "    fitness = np.zeros(2)  # 2 objetivos\n",
        "    bin_usage = np.zeros(num_bins)  # Inicializa el uso de cada bin con 0\n",
        "\n",
        "    # Calcula el uso de cada bin basado en la asignación de ítems\n",
        "    for bin_index in range(num_bins):\n",
        "        for item_index in range(len(items)):\n",
        "            if chromosome[bin_index, item_index] == 1:  # Si el ítem está asignado a este bin\n",
        "                bin_usage[bin_index] += items[item_index].size\n",
        "\n",
        "    # Calcula la suma total de áreas no usadas en cada bin\n",
        "    sum_unused_space = np.sum([bin_size - usage if usage <= bin_size else 0 for usage in bin_usage])\n",
        "\n",
        "    # Calcula la suma total del tamaño de los ítems no asignados\n",
        "    #sum_unassigned_items_size = 0\n",
        "    #for item_index in range(len(items)):\n",
        "    #    if np.sum(chromosome[:, item_index]) == 0:  # Si el ítem no está asignado a ningún bin\n",
        "    #        sum_unassigned_items_size += items[item_index].size\n",
        "\n",
        "    # 20240409 MMENA se corrige esta función\n",
        "    sum_unassigned_items_size = 0\n",
        "    for bin_index in range(num_bins):\n",
        "        for item_index in range(len(items)):\n",
        "            if chromosome[bin_index, item_index] == 0:  # Si el ítem está asignado a este bin\n",
        "                sum_unassigned_items_size += items[item_index].size\n",
        "\n",
        "    fitness[0] = sum_unassigned_items_size  # Minimizar la suma total del tamaño de los ítems no asignados\n",
        "    fitness[1] = sum_unused_space  # Minimizar la suma total de áreas no usadas en cada bin\n",
        "\n",
        "    # Asigna los objetivos al vector de fitness\n",
        "    #if sum_unused_space != 0 and sum_unassigned_items_size!= 0 :\n",
        "    #  fitness[0] = sum_unassigned_items_size  # Minimizar la suma total del tamaño de los ítems no asignados\n",
        "    #  fitness[1] = sum_unused_space  # Minimizar la suma total de áreas no usadas en cada bin\n",
        "    #else:\n",
        "    #  fitness[0] = 0  # Minimizar la suma total del tamaño de los ítems no asignados\n",
        "    #  fitness[1] = 0  # Minimizar la suma total de áreas no usadas en cada bin\n",
        "\n",
        "\n",
        "    return fitness"
      ],
      "metadata": {
        "id": "745aX6rGo3mk"
      },
      "execution_count": null,
      "outputs": []
    },
    {
      "cell_type": "code",
      "source": [
        "def get_fitness(chromosome, items, bin_size, num_bins):\n",
        "    \"\"\"Retorna los fitness del cromosoma pasado: suma total del tamaño de los ítems no asignados y suma total de áreas no usadas en cada bin.\"\"\"\n",
        "    fitness = np.zeros(2)  # 2 objetivos\n",
        "    bin_usage = np.zeros(num_bins)  # inicializa el uso de cada bin con 0\n",
        "\n",
        "    # Calcula el uso de cada bin basado en la asignación de ítems\n",
        "    for bin_index in range(num_bins):\n",
        "        for item_index in range(len(items)):\n",
        "            if chromosome[bin_index, item_index] == 1:  # si el ítem está asignado a este bin\n",
        "                bin_usage[bin_index] += items[item_index].size\n",
        "\n",
        "    # Calcula la suma total de áreas no usadas en cada bin\n",
        "    sum_unused_space = np.sum([bin_size - usage if usage <= bin_size else 0 for usage in bin_usage])\n",
        "\n",
        "    # Calcula la suma total del tamaño de los ítems no asignados\n",
        "    # Esta vez, asegurándonos de que cada ítem no asignado se cuente solo una vez\n",
        "    sum_unassigned_items_size = sum(item.size for item_index, item in enumerate(items) if np.sum(chromosome[:, item_index]) == 0)\n",
        "\n",
        "    fitness[0] = sum_unassigned_items_size  # Minimizar la suma total del tamaño de los ítems no asignados\n",
        "    fitness[1] = sum_unused_space  # Minimizar la suma total de áreas no usadas en cada bin\n",
        "\n",
        "    return fitness"
      ],
      "metadata": {
        "id": "cPS-nNO2CjGF"
      },
      "execution_count": null,
      "outputs": []
    },
    {
      "cell_type": "code",
      "source": [
        "def get_fitness(chromosome, chromosome_size, items, bin_size, num_bins):\n",
        "    \"\"\"Retorna los fitness del cromosoma pasado: suma total del tamaño de los ítems no asignados y suma total de áreas no usadas en cada bin.\"\"\"\n",
        "    fitness = np.zeros(2)  # 2 objetivos\n",
        "    bin_usage = np.zeros(num_bins)  # inicializa el uso de cada bin con 0\n",
        "    C = bin_size*num_bins\n",
        "\n",
        "    # Calcula el uso de cada bin basado en la asignación de ítems\n",
        "    count = 0\n",
        "    for bin_index in range(num_bins):\n",
        "        for item_index in range(chromosome_size):\n",
        "            if chromosome[bin_index, item_index] == 1:  # si el ítem está asignado a este bin\n",
        "                bin_usage[bin_index] += items[count].size\n",
        "            count = count+1\n",
        "\n",
        "    # Calcula la suma total de áreas no usadas en cada bin\n",
        "    sum_unused_space = np.sum([bin_size - usage if usage <= bin_size else 0 for usage in bin_usage])\n",
        "\n",
        "    # Calcula la suma total del tamaño de los ítems no asignados\n",
        "    # Esta vez, asegurándonos de que cada ítem no asignado se cuente solo una vez\n",
        "    #sum_unassigned_items_size = sum(item.size for item_index, item in enumerate(items) if np.sum(chromosome[:, item_index]) == 0)\n",
        "    sum_unassigned_items_size = 0\n",
        "    count = 0\n",
        "    count = 0\n",
        "    for bin_index in range(num_bins):\n",
        "      for item_index in range(chromosome_size):\n",
        "        if chromosome[bin_index, item_index] == 0:\n",
        "          sum_unassigned_items_size += items[count].size\n",
        "        count = count+1\n",
        "    fitness[0] = sum_unassigned_items_size  # Minimizar la suma total del tamaño de los ítems no asignados\n",
        "    fitness[1] = sum_unused_space  # Minimizar la suma total de áreas no usadas en cada bin\n",
        "    if fitness[1] != 0:\n",
        "      fitness[1] = 1/sum_unused_space\n",
        "    else:\n",
        "      fitness[1] = 0\n",
        "\n",
        "    return fitness\n",
        "\n",
        "\n",
        "\n",
        "    fitness[0] = sum_unassigned_items_size  # Minimizar la suma total del tamaño de los ítems no asignados\n",
        "    fitness[1] = 1/sum_unused_space  # Minimizar la suma total de áreas no usadas en cada bin"
      ],
      "metadata": {
        "id": "ojgxXE0lHgxV"
      },
      "execution_count": null,
      "outputs": []
    },
    {
      "cell_type": "markdown",
      "source": [
        "## Inicializamos la población"
      ],
      "metadata": {
        "id": "1B4tMN3P4w3L"
      }
    },
    {
      "cell_type": "code",
      "source": [
        "def init_population(pop_size, chromosome_size, num_bins):\n",
        "    # Inicializa una población de pop_size individuos, cada cromosoma de individuo de tamaño num_bins x chromosome_size.\n",
        "    population = []\n",
        "    for i in range(pop_size):\n",
        "        # Crea una matriz de ceros con dimensiones num_bins x chromosome_size\n",
        "        new_chromosome = np.zeros((num_bins, chromosome_size))\n",
        "\n",
        "        # Para simplificar, asumiremos que queremos asignar aleatoriamente algunos ítems a bins en cada fila.\n",
        "        # Este paso es opcional y depende de cómo quieras modelar el problema.\n",
        "        for bin_index in range(num_bins):\n",
        "            ones = randint(0, chromosome_size)  # Número aleatorio de ítems a asignar en este bin\n",
        "            ones_indices = np.random.choice(chromosome_size, ones, replace=False)  # Índices aleatorios para asignar ítems\n",
        "            new_chromosome[bin_index, ones_indices] = 1  # Asigna ítems a este bin\n",
        "\n",
        "        # Agrega el nuevo individuo, con su cromosoma, a la población\n",
        "        population.append(individual(new_chromosome))\n",
        "\n",
        "    return population"
      ],
      "metadata": {
        "id": "z3xp1Dtr4y2G"
      },
      "execution_count": null,
      "outputs": []
    },
    {
      "cell_type": "markdown",
      "source": [
        "## Evaluamos la población"
      ],
      "metadata": {
        "id": "Hc_H91vzDAZp"
      }
    },
    {
      "cell_type": "code",
      "source": [
        "def evaluate_population(population, items, bin_size, num_bins,chromosome_size):\n",
        "    \"\"\"Evalúa una población de individuos con la función get_fitness.\"\"\"\n",
        "    pop_size = len(population)\n",
        "    for i in range(pop_size):\n",
        "        if population[i].fitness == -1:  # Evalúa solo si el individuo no está evaluado\n",
        "            # Llama a get_fitness con los parámetros correctos para el problema actual\n",
        "            population[i].fitness = get_fitness(population[i].chromosome, chromosome_size, items, bin_size, num_bins)"
      ],
      "metadata": {
        "id": "CMbHiOoNB-vz"
      },
      "execution_count": null,
      "outputs": []
    },
    {
      "cell_type": "markdown",
      "source": [
        "## build_offspring_population"
      ],
      "metadata": {
        "id": "PP_k-Ih6zVEG"
      }
    },
    {
      "cell_type": "code",
      "source": [
        "def build_offspring_population(population, crossover, mutation, pmut, num_bins):\n",
        "    \"\"\"Construye una población hija con los operadores de cruzamiento y mutación pasados.\n",
        "\n",
        "    Args:\n",
        "        crossover (str): Operador de cruzamiento.\n",
        "        mutation (str): Operador de mutación.\n",
        "        pmut (float): Tasa de mutación.\n",
        "        num_bins (int): Número de bins, necesario para la mutación flip.\n",
        "    \"\"\"\n",
        "    pop_size = len(population)\n",
        "\n",
        "    # Selecciona parejas de individuos (mating_pool) para cruzamiento\n",
        "    mating_pool = []\n",
        "    for i in range(int(pop_size / 2)):\n",
        "        # Escoge dos individuos diferentes aleatoriamente de la población\n",
        "        permut = np.random.permutation(pop_size)\n",
        "        mating_pool.append((population[permut[0]], population[permut[1]]))\n",
        "\n",
        "    # Crea la población descendencia cruzando las parejas del mating pool\n",
        "    offspring_population = []\n",
        "    for i in range(len(mating_pool)):\n",
        "        if crossover == \"onepoint\":\n",
        "            offspring_population.extend(mating_pool[i][0].crossover_onepoint(mating_pool[i][1]))  # Cruzamiento 1 punto\n",
        "        elif crossover == \"uniform\":\n",
        "            offspring_population.extend(mating_pool[i][0].crossover_uniform(mating_pool[i][1]))  # Cruzamiento uniforme\n",
        "        else:\n",
        "            raise NotImplementedError\n",
        "\n",
        "    # Aplica el operador de mutación con probabilidad pmut en cada hijo generado\n",
        "    for i in range(len(offspring_population)):\n",
        "        if uniform(0, 1) < pmut:\n",
        "            if mutation == \"flip\":\n",
        "                offspring_population[i] = offspring_population[i].mutation_flip()  # Cambia el alelo de un gen\n",
        "            else:\n",
        "                raise NotImplementedError\n",
        "\n",
        "    return offspring_population"
      ],
      "metadata": {
        "id": "uxTU5CMgDNbW"
      },
      "execution_count": null,
      "outputs": []
    },
    {
      "cell_type": "code",
      "source": [
        "def build_offspring_population(population, crossover, mutation, pmut, num_bins, num_mutations=1):\n",
        "    \"\"\"\n",
        "    Construye una población hija con los operadores de cruzamiento y mutación pasados.\n",
        "\n",
        "    Args:\n",
        "        crossover (str): operador de cruzamiento.\n",
        "        mutation (str): operador de mutación.\n",
        "        pmut (float): tasa de mutación.\n",
        "        num_bins (int): número de bins, necesario para la mutación flip.\n",
        "        num_mutations (int): número de ítems a mutar en la mutación multiflip.\n",
        "    \"\"\"\n",
        "    pop_size = len(population)\n",
        "\n",
        "    # Selecciona parejas de individuos (mating_pool) para cruzamiento\n",
        "    mating_pool = []\n",
        "    for i in range(int(pop_size / 2)):\n",
        "        # Escoge dos individuos diferentes aleatoriamente de la población\n",
        "        permut = np.random.permutation(pop_size)\n",
        "        mating_pool.append((population[permut[0]], population[permut[1]]))\n",
        "\n",
        "    # Crea la población descendencia cruzando las parejas del mating pool\n",
        "    offspring_population = []\n",
        "    for i in range(len(mating_pool)):\n",
        "        if crossover == \"onepoint\":\n",
        "            offspring_population.extend(mating_pool[i][0].crossover_onepoint(mating_pool[i][1]))  # Cruzamiento 1 punto\n",
        "        elif crossover == \"uniform\":\n",
        "            offspring_population.extend(mating_pool[i][0].crossover_uniform(mating_pool[i][1]))  # Cruzamiento uniforme\n",
        "        else:\n",
        "            raise NotImplementedError\n",
        "\n",
        "    # Aplica el operador de mutación con probabilidad pmut en cada hijo generado\n",
        "    for i in range(len(offspring_population)):\n",
        "        if uniform(0, 1) < pmut:\n",
        "            if mutation == \"flip\":\n",
        "                offspring_population[i] = offspring_population[i].mutation_flip()  # Cambia el alelo de un gen\n",
        "            elif mutation == \"multiflip\":\n",
        "                offspring_population[i] = offspring_population[i].mutation_multiflip(num_mutations)  # Mutación multiflip\n",
        "            else:\n",
        "                raise NotImplementedError\n",
        "\n",
        "    return offspring_population"
      ],
      "metadata": {
        "id": "O7lPTEeYffuO"
      },
      "execution_count": null,
      "outputs": []
    },
    {
      "cell_type": "code",
      "source": [
        "def get_crowding_distances(fitnesses):\n",
        "    \"\"\"\n",
        "    La distancia crowding de un individuo es la diferencia del fitness mas proximo hacia arriba menos el fitness mas proximo\n",
        "    hacia abajo. El valor crowding total es la suma de todas las distancias crowdings para todos los fitness\n",
        "    \"\"\"\n",
        "\n",
        "    pop_size = len(fitnesses[:, 0])\n",
        "    num_objectives = len(fitnesses[0, :])\n",
        "\n",
        "    # crea matriz crowding. Filas representan individuos, columnas representan objectives\n",
        "    crowding_matrix = np.zeros((pop_size, num_objectives))\n",
        "\n",
        "    # normalisa los fitnesses entre 0 y 1 (ptp es max - min)\n",
        "    normalized_fitnesses = (fitnesses - fitnesses.min(0)) / fitnesses.ptp(0)\n",
        "\n",
        "    for col in range(num_objectives):   # Por cada objective\n",
        "        crowding = np.zeros(pop_size)\n",
        "\n",
        "        # puntos extremos tienen maximo crowding\n",
        "        crowding[0] = 1\n",
        "        crowding[pop_size - 1] = 1\n",
        "\n",
        "        # ordena los fitness normalizados del objectivo actual\n",
        "        sorted_fitnesses = np.sort(normalized_fitnesses[:, col])\n",
        "        sorted_fitnesses_index = np.argsort(normalized_fitnesses[:, col])\n",
        "\n",
        "        # Calcula la distancia crowding de cada individuo como la diferencia de score de los vecinos\n",
        "        crowding[1:pop_size - 1] = (sorted_fitnesses[2:pop_size] - sorted_fitnesses[0:pop_size - 2])\n",
        "\n",
        "        # obtiene el ordenamiento original\n",
        "        re_sort_order = np.argsort(sorted_fitnesses_index)\n",
        "        sorted_crowding = crowding[re_sort_order]\n",
        "\n",
        "        # Salva las distancias crowdingpara el objetivo que se esta iterando\n",
        "        crowding_matrix[:, col] = sorted_crowding\n",
        "\n",
        "    # Obtiene las distancias crowding finales sumando las distancias crowding de cada objetivo\n",
        "    crowding_distances = np.sum(crowding_matrix, axis=1)\n",
        "\n",
        "    return crowding_distances"
      ],
      "metadata": {
        "id": "kZlXErXBEGPR"
      },
      "execution_count": null,
      "outputs": []
    },
    {
      "cell_type": "code",
      "source": [
        "def select_by_crowding(population, num_individuals):\n",
        "    \"\"\"\n",
        "    Selecciona una población de individuos basado en torneos de pares de individuos: dos individuos se escogen al azar\n",
        "    y se selecciona el mejor según la distancia crowding. Se repite hasta obtener num_individuals individuos.\n",
        "    \"\"\"\n",
        "    # Realiza una copia profunda de la población para evitar modificar la original\n",
        "    population = deepcopy(population)\n",
        "    pop_size = len(population)\n",
        "\n",
        "    # Asume que el atributo fitness de cada individuo ya es una lista o tupla de valores de fitness\n",
        "    num_objectives = len(population[0].fitness)\n",
        "\n",
        "    # Extrae los fitness de la población en la matriz fitnesses\n",
        "    fitnesses = np.zeros([pop_size, num_objectives])\n",
        "    for i in range(pop_size):\n",
        "        fitnesses[i, :] = population[i].fitness\n",
        "\n",
        "    # Obtiene las distancias crowding\n",
        "    crowding_distances = get_crowding_distances(fitnesses)\n",
        "\n",
        "    population_selected = []  # Población escogida\n",
        "\n",
        "    while len(population_selected) < num_individuals:\n",
        "        # Escoge dos individuos aleatoriamente de la población no escogida aún\n",
        "        permut = np.random.permutation(len(population))\n",
        "        ind1_id = permut[0]\n",
        "        ind2_id = permut[1]\n",
        "\n",
        "        # Si ind1_id es el mejor (mayor distancia de crowding)\n",
        "        if crowding_distances[ind1_id] >= crowding_distances[ind2_id]:\n",
        "            # Traslada el individuo ind1 de population a la lista de individuos seleccionados\n",
        "            population_selected.append(population.pop(ind1_id))\n",
        "            # Remueve la distancia crowding del individuo seleccionado\n",
        "            crowding_distances = np.delete(crowding_distances, ind1_id, axis=0)\n",
        "        else:  # Si ind2_id es el mejor\n",
        "            # Traslada el individuo ind2 de population a la lista de individuos seleccionados\n",
        "            population_selected.append(population.pop(ind2_id))\n",
        "            # Remueve la distancia crowding del individuo seleccionado\n",
        "            crowding_distances = np.delete(crowding_distances, ind2_id, axis=0)\n",
        "\n",
        "    return population_selected"
      ],
      "metadata": {
        "id": "bh3QQmiWEsBK"
      },
      "execution_count": null,
      "outputs": []
    },
    {
      "cell_type": "markdown",
      "source": [
        "## frontera de pareto"
      ],
      "metadata": {
        "id": "gd63BLtBFUQT"
      }
    },
    {
      "cell_type": "code",
      "source": [
        "def get_paretofront_population(population):\n",
        "    \"\"\"\n",
        "    Obtiene de population la población de individuos de la frontera de Pareto.\n",
        "    \"\"\"\n",
        "    population = deepcopy(population)\n",
        "    pop_size = len(population)\n",
        "\n",
        "    # Todos los individuos son inicialmente asumidos como la frontera de Pareto\n",
        "    pareto_front = np.ones(pop_size, dtype=bool)\n",
        "\n",
        "    for i in range(pop_size):  # Compara cada individuo contra todos los demás\n",
        "        for j in range(pop_size):\n",
        "            if i != j:\n",
        "                # Chequea si individuo 'i' es dominado por individuo 'j'\n",
        "                if all(np.asarray(population[j].fitness) >= np.asarray(population[i].fitness)) and any(np.asarray(population[j].fitness) > np.asarray(population[i].fitness)):\n",
        "                    # j domina a i -> señaliza que individuo 'i' como no siendo parte de la frontera de Pareto\n",
        "                    pareto_front[i] = False\n",
        "                    break  # Para la búsqueda para 'i' (no es necesario hacer más comparaciones)\n",
        "\n",
        "    paretofront_population = []\n",
        "    for i in range(pop_size):  # Construye la lista de individuos de la frontera de Pareto\n",
        "        if pareto_front[i]:\n",
        "            paretofront_population.append(population[i])\n",
        "\n",
        "    return paretofront_population"
      ],
      "metadata": {
        "id": "6TimOA8RFXKO"
      },
      "execution_count": null,
      "outputs": []
    },
    {
      "cell_type": "markdown",
      "source": [
        "## build_next_population"
      ],
      "metadata": {
        "id": "aiIZVfZrHp3v"
      }
    },
    {
      "cell_type": "code",
      "source": [
        "def build_next_population(population, min_pop_size, max_pop_size):\n",
        "    \"\"\"\n",
        "    Construye la población de la siguiente generación añadiendo sucesivas fronteras de Pareto hasta\n",
        "    tener una población de al menos min_pop_size individuos. Reduce la frontera de Pareto con el método de\n",
        "    crowding distance si al agregar la frontera excede el tamaño máximo de la población (max_pop_size).\n",
        "    \"\"\"\n",
        "    population = deepcopy(population)\n",
        "    next_population = []\n",
        "\n",
        "    while len(next_population) < min_pop_size:  # Mientras la población no tenga el tamaño mínimo\n",
        "        # Obtiene la población frontera de Pareto actual\n",
        "        paretofront_population = get_paretofront_population(population)\n",
        "\n",
        "        # Si población actual + paretofront excede el máximo permitido -> reduce paretofront con el método de crowding\n",
        "        combined_population_size = len(next_population) + len(paretofront_population)\n",
        "        if combined_population_size > max_pop_size:\n",
        "            paretofront_population = select_by_crowding(paretofront_population, max_pop_size - len(next_population))\n",
        "\n",
        "        # Adiciona la frontera de Pareto (original o reducida) a la población en construcción\n",
        "        next_population.extend(paretofront_population)\n",
        "\n",
        "        # Remueve de population los individuos que fueron agregados a next_population\n",
        "        population = [ind for ind in population if ind not in paretofront_population]\n",
        "\n",
        "    return next_population"
      ],
      "metadata": {
        "id": "QGOpv9PEF4BH"
      },
      "execution_count": null,
      "outputs": []
    },
    {
      "cell_type": "markdown",
      "source": [
        "## función que permite sumar las cantidad de items asignados, no asignados y el total de cada uno de ellos"
      ],
      "metadata": {
        "id": "dzBunBWTo2V9"
      }
    },
    {
      "cell_type": "code",
      "source": [
        "def sumar_tamaños_por_fila(items, matriz,plocal,pglobal):\n",
        "  sumatotal_asignados = 0\n",
        "  sumatotal_no_asignados = 0\n",
        "  num_col,num_fil = matriz.shape\n",
        "  count = 0\n",
        "  for bin_index in range(num_col):\n",
        "    suma_asignados=0\n",
        "    suma_no_asignados=0\n",
        "    for item_index in range(num_fil):\n",
        "      if matriz[bin_index, item_index] == 1:\n",
        "        suma_asignados += items[count].size\n",
        "      if matriz[bin_index, item_index] == 0:  # Si el ítem está asignado a este bin\n",
        "        suma_no_asignados += items[count].size\n",
        "      count = count+1\n",
        "    if  plocal == 1:\n",
        "      print(f\"Suma de asignados: {suma_asignados}, Suma de no asignados: {suma_no_asignados}\")\n",
        "    sumatotal_asignados += suma_asignados\n",
        "    sumatotal_no_asignados += suma_no_asignados\n",
        "  if  pglobal == 1:\n",
        "    print(f\"Suma total de asignados: {sumatotal_asignados}, Suma total de no asignados: {sumatotal_no_asignados}\")\n",
        "  return   [suma_asignados,suma_no_asignados,sumatotal_asignados, sumatotal_no_asignados]"
      ],
      "metadata": {
        "id": "9CjDlWJ2nbkl"
      },
      "execution_count": null,
      "outputs": []
    },
    {
      "cell_type": "markdown",
      "source": [
        "## Algoritmo genetico multiobjetivo (NSGA-II) principal"
      ],
      "metadata": {
        "id": "PM8WTI60HwHM"
      }
    },
    {
      "cell_type": "code",
      "source": [
        "# Hiperparámetros del algoritmo genético\n",
        "num_items = 54          # Número de ítems\n",
        "max_item_size = 50    # Máximo tamaño posible de cada ítem\n",
        "num_bins = 5           # Número de bins disponibles\n",
        "bin_size = 100        # Tamaño máximo que puede soportar cada bin\n",
        "\n",
        "# Pool de ítems generado aleatoriamente\n",
        "itempool = [Item(randint(1,num_bins),randint(1, max_item_size)) for _ in range(num_items)]\n",
        "itemsize = [itempool[i].size for i in range (len(itempool))]\n",
        "\n",
        "# Parámetros de la población\n",
        "pop_size = 200\n",
        "min_pop_size = 200\n",
        "max_pop_size = 200\n",
        "# El tamaño del cromosoma se define por el número de bins y el número de ítems, formando una matriz\n",
        "chromosome_size = num_items // num_bins #(num_bins, num_items)\n",
        "generations = 300     # Número de generaciones\n",
        "pmut = 1            # Tasa de mutación\n",
        "numcrom = 0\n",
        "print('Número de items:', num_items)\n",
        "print('Max. tamaño item:', max_item_size)\n",
        "print('Items (tamaño):', itemsize)\n",
        "print('Tamaño de Cromosoma:', chromosome_size)"
      ],
      "metadata": {
        "id": "_-atusu7GlQ8",
        "colab": {
          "base_uri": "https://localhost:8080/"
        },
        "outputId": "b19761c0-034b-46c4-f14c-b38d9bc8a9c8"
      },
      "execution_count": null,
      "outputs": [
        {
          "output_type": "stream",
          "name": "stdout",
          "text": [
            "Número de items: 54\n",
            "Max. tamaño item: 50\n",
            "Items (tamaño): [25, 21, 1, 12, 29, 11, 33, 23, 47, 3, 11, 5, 37, 9, 45, 32, 9, 10, 38, 14, 11, 15, 45, 20, 31, 7, 34, 18, 7, 31, 20, 40, 28, 49, 1, 9, 49, 3, 34, 13, 17, 4, 21, 46, 37, 11, 9, 50, 10, 29, 48, 37, 20, 8]\n",
            "Tamaño de Cromosoma: 10\n"
          ]
        }
      ]
    },
    {
      "cell_type": "code",
      "source": [
        "# Revisión de los componentes de la variable itempool\n",
        "for idx, itm in enumerate(itempool):\n",
        "    print(f\"Ítem {idx+1}: Nombre = {itm.name}, Tamaño = {itm.size}\")"
      ],
      "metadata": {
        "id": "rdn8t3ZptfJS"
      },
      "execution_count": null,
      "outputs": []
    },
    {
      "cell_type": "code",
      "source": [
        "# Crea una población inicial\n",
        "poblacion_inicial = init_population(pop_size, chromosome_size, num_bins)"
      ],
      "metadata": {
        "id": "Pvqvf42XHWlG"
      },
      "execution_count": null,
      "outputs": []
    },
    {
      "cell_type": "code",
      "source": [
        "print(itempool[2].size)\n",
        "print(poblacion_inicial[numcrom].fitness)\n",
        "print(poblacion_inicial[numcrom].chromosome)\n",
        "#sumatotal= sumar_tamaños_por_fila(itempool, poblacion_inicial[numcrom].chromosome)"
      ],
      "metadata": {
        "colab": {
          "base_uri": "https://localhost:8080/"
        },
        "id": "kKryC7QQJC2U",
        "outputId": "b726fb1f-0713-4990-e70f-f879bdd29d23"
      },
      "execution_count": null,
      "outputs": [
        {
          "output_type": "stream",
          "name": "stdout",
          "text": [
            "1\n",
            "-1\n",
            "[[0. 1. 1. 1. 1. 1. 1. 1. 1. 1.]\n",
            " [0. 0. 0. 0. 0. 0. 0. 0. 0. 0.]\n",
            " [1. 1. 1. 1. 1. 1. 1. 1. 1. 1.]\n",
            " [1. 0. 1. 0. 1. 0. 0. 1. 1. 1.]\n",
            " [1. 1. 1. 1. 1. 1. 1. 1. 1. 1.]]\n"
          ]
        }
      ]
    },
    {
      "cell_type": "code",
      "source": [
        "# Llamada a la función\n",
        "for i in range(2):\n",
        "  sumatotal= sumar_tamaños_por_fila(itempool, poblacion_inicial[i].chromosome,plocal=0,pglobal=0)\n",
        "  print(sumatotal)"
      ],
      "metadata": {
        "id": "Ifyuyllnnh3k",
        "colab": {
          "base_uri": "https://localhost:8080/"
        },
        "outputId": "0f18a05b-f608-4705-dadb-4b8193d4b0c7"
      },
      "execution_count": null,
      "outputs": [
        {
          "output_type": "stream",
          "name": "stdout",
          "text": [
            "[234, 0, 732, 382]\n",
            "[130, 104, 542, 572]\n"
          ]
        }
      ]
    },
    {
      "cell_type": "code",
      "source": [
        "# Copia la población inicial en una nueva variable para no alterar la población inicial\n",
        "p = deepcopy(poblacion_inicial)\n",
        "\n",
        "# Evalúa la población inicial\n",
        "evaluate_population(p, itempool, bin_size, num_bins,chromosome_size)"
      ],
      "metadata": {
        "id": "SJ36xNOQIYCZ"
      },
      "execution_count": null,
      "outputs": []
    },
    {
      "cell_type": "code",
      "source": [
        "# Llamada a la función\n",
        "for i in range(len(p)):\n",
        "  sumatotal= sumar_tamaños_por_fila(itempool, p[i].chromosome,plocal=0,pglobal=0)\n",
        "  print(sumatotal)"
      ],
      "metadata": {
        "id": "y9f7OBJYJ9ha"
      },
      "execution_count": null,
      "outputs": []
    },
    {
      "cell_type": "code",
      "source": [
        "print(p[numcrom].fitness)\n",
        "print(p[numcrom].chromosome)"
      ],
      "metadata": {
        "id": "43dRHWL80FBh",
        "colab": {
          "base_uri": "https://localhost:8080/"
        },
        "outputId": "1dc4b6cf-2d05-42ee-91d4-643bd20d4bf5"
      },
      "execution_count": null,
      "outputs": [
        {
          "output_type": "stream",
          "name": "stdout",
          "text": [
            "[3.8200000e+02 9.9009901e-03]\n",
            "[[0. 1. 1. 1. 1. 1. 1. 1. 1. 1.]\n",
            " [0. 0. 0. 0. 0. 0. 0. 0. 0. 0.]\n",
            " [1. 1. 1. 1. 1. 1. 1. 1. 1. 1.]\n",
            " [1. 0. 1. 0. 1. 0. 0. 1. 1. 1.]\n",
            " [1. 1. 1. 1. 1. 1. 1. 1. 1. 1.]]\n"
          ]
        }
      ]
    },
    {
      "cell_type": "code",
      "source": [
        "# Ejecuta los ciclos evolutivos\n",
        "for g in range(generations):  # Por cada generación\n",
        "    if g % 10 == 0:\n",
        "        print('Generación {} (de {})'.format(g, generations))\n",
        "\n",
        "    # Genera y evalúa la población hija\n",
        "    q = build_offspring_population(p, \"onepoint\", \"multiflip\", pmut, num_bins)\n",
        "    evaluate_population(q, itempool, bin_size, num_bins,chromosome_size)\n",
        "\n",
        "    # Une la población padre y la población hija\n",
        "    p.extend(q)\n",
        "\n",
        "    # Construye la población de la siguiente generación\n",
        "    p = build_next_population(p, min_pop_size, max_pop_size)\n",
        "\n",
        "# Obtiene la población de la frontera de Pareto final\n",
        "pareto_front_population = get_paretofront_population(p)"
      ],
      "metadata": {
        "colab": {
          "base_uri": "https://localhost:8080/"
        },
        "id": "xW0hiR_XwvKj",
        "outputId": "88853a7c-3db4-4d48-e7bb-4434b08f840b"
      },
      "execution_count": null,
      "outputs": [
        {
          "output_type": "stream",
          "name": "stdout",
          "text": [
            "Generación 0 (de 300)\n",
            "Generación 10 (de 300)\n",
            "Generación 20 (de 300)\n",
            "Generación 30 (de 300)\n",
            "Generación 40 (de 300)\n",
            "Generación 50 (de 300)\n",
            "Generación 60 (de 300)\n",
            "Generación 70 (de 300)\n",
            "Generación 80 (de 300)\n",
            "Generación 90 (de 300)\n",
            "Generación 100 (de 300)\n",
            "Generación 110 (de 300)\n",
            "Generación 120 (de 300)\n",
            "Generación 130 (de 300)\n",
            "Generación 140 (de 300)\n",
            "Generación 150 (de 300)\n",
            "Generación 160 (de 300)\n",
            "Generación 170 (de 300)\n",
            "Generación 180 (de 300)\n",
            "Generación 190 (de 300)\n",
            "Generación 200 (de 300)\n",
            "Generación 210 (de 300)\n",
            "Generación 220 (de 300)\n",
            "Generación 230 (de 300)\n",
            "Generación 240 (de 300)\n",
            "Generación 250 (de 300)\n",
            "Generación 260 (de 300)\n",
            "Generación 270 (de 300)\n",
            "Generación 280 (de 300)\n",
            "Generación 290 (de 300)\n"
          ]
        }
      ]
    },
    {
      "cell_type": "code",
      "source": [
        "print(q[numcrom].fitness)\n",
        "print(q[numcrom].chromosome)"
      ],
      "metadata": {
        "colab": {
          "base_uri": "https://localhost:8080/"
        },
        "id": "k66ECI2OHPpc",
        "outputId": "022fdc2b-e91d-4cdd-d860-64f01579146f"
      },
      "execution_count": null,
      "outputs": [
        {
          "output_type": "stream",
          "name": "stdout",
          "text": [
            "[8.76000000e+02 3.81679389e-03]\n",
            "[[0. 0. 1. 0. 0. 1. 0. 0. 0. 0.]\n",
            " [1. 1. 0. 1. 1. 0. 1. 1. 0. 0.]\n",
            " [1. 1. 1. 0. 0. 1. 0. 0. 1. 0.]\n",
            " [0. 0. 0. 0. 0. 0. 0. 1. 0. 1.]\n",
            " [0. 1. 1. 0. 0. 1. 0. 0. 0. 0.]]\n"
          ]
        }
      ]
    },
    {
      "cell_type": "markdown",
      "source": [
        "## Diagrama de Pareto"
      ],
      "metadata": {
        "id": "H2NROPmwvCCK"
      }
    },
    {
      "cell_type": "code",
      "source": [
        "## Plotea los individuos de la frontera de Pareto final\n",
        "pop_size = len(pareto_front_population)\n",
        "num_objectives = len(pareto_front_population[0].fitness)\n",
        "\n",
        "# extrae los fitness de la poblacion en la matriz fitnesses\n",
        "fitnesses = np.zeros([pop_size, num_objectives])\n",
        "for i in range(pop_size): fitnesses[i,:] = pareto_front_population[i].fitness\n",
        "\n",
        "x = fitnesses[:, 0]\n",
        "y = fitnesses[:, 1]\n",
        "\n",
        "plt.xlabel('Suma total del tamaño de los objetos no asignados')\n",
        "plt.ylabel('Factor de ligeraza de la Suma total de áreas \\n no usadas en cada objeto')\n",
        "plt.scatter(x,y)\n",
        "#plt.savefig('pareto.png')\n",
        "plt.show()"
      ],
      "metadata": {
        "colab": {
          "base_uri": "https://localhost:8080/",
          "height": 449
        },
        "id": "___hS3TaO9LN",
        "outputId": "34e103d1-7d0c-42f1-fb2f-65b24ec1c9df"
      },
      "execution_count": null,
      "outputs": [
        {
          "output_type": "display_data",
          "data": {
            "text/plain": [
              "<Figure size 640x480 with 1 Axes>"
            ],
            "image/png": "[encoded data removed]"
          },
          "metadata": {}
        }
      ]
    },
    {
      "cell_type": "code",
      "source": [
        "#Algunos de los valores del pareto front y su fitness:\n",
        "for i in range(5):\n",
        "    b = pareto_front_population[i].fitness\n",
        "    print(b)"
      ],
      "metadata": {
        "colab": {
          "base_uri": "https://localhost:8080/"
        },
        "id": "4BDgPY8XPTu2",
        "outputId": "3fee5406-7905-4b35-ca8c-59b293735419"
      },
      "execution_count": null,
      "outputs": [
        {
          "output_type": "stream",
          "name": "stdout",
          "text": [
            "[9.06000000e+02 3.42465753e-03]\n",
            "[8.8500000e+02 3.6900369e-03]\n",
            "[9.0000000e+02 3.4965035e-03]\n",
            "[8.94000000e+02 3.57142857e-03]\n",
            "[9.0000000e+02 3.4965035e-03]\n"
          ]
        }
      ]
    },
    {
      "cell_type": "code",
      "source": [
        "#Imprime 5 soluciones de la frontera:\n",
        "for i in range(5):\n",
        "    a = pareto_front_population[i].chromosome\n",
        "    print(a)"
      ],
      "metadata": {
        "id": "4hVGl_0aPYB4"
      },
      "execution_count": null,
      "outputs": []
    },
    {
      "cell_type": "code",
      "source": [
        "sumatotal= sumar_tamaños_por_fila(itempool, pareto_front_population[144].chromosome,plocal=1,pglobal=1)\n",
        "pareto_front_population[144].chromosome"
      ],
      "metadata": {
        "colab": {
          "base_uri": "https://localhost:8080/"
        },
        "id": "OyL-0opAwEcO",
        "outputId": "dd3a4c8c-e1db-4416-99bb-83b1f5922afc"
      },
      "execution_count": null,
      "outputs": [
        {
          "output_type": "stream",
          "name": "stdout",
          "text": [
            "Suma de asignados: 88, Suma de no asignados: 117\n",
            "Suma de asignados: 67, Suma de no asignados: 143\n",
            "Suma de asignados: 78, Suma de no asignados: 141\n",
            "Suma de asignados: 62, Suma de no asignados: 184\n",
            "Suma de asignados: 25, Suma de no asignados: 209\n",
            "Suma total de asignados: 320, Suma total de no asignados: 794\n"
          ]
        },
        {
          "output_type": "execute_result",
          "data": {
            "text/plain": [
              "array([[1., 0., 1., 0., 1., 0., 1., 0., 0., 0.],\n",
              "       [1., 1., 0., 1., 0., 1., 0., 1., 0., 0.],\n",
              "       [0., 1., 1., 0., 0., 0., 0., 1., 0., 0.],\n",
              "       [0., 0., 0., 0., 0., 0., 1., 0., 0., 1.],\n",
              "       [0., 1., 1., 0., 0., 0., 0., 0., 0., 0.]])"
            ]
          },
          "metadata": {},
          "execution_count": 29
        }
      ]
    },
    {
      "cell_type": "code",
      "source": [
        "# Llamada a la función\n",
        "sum02 = np.zeros(len(pareto_front_population))\n",
        "sum03 = np.zeros(len(pareto_front_population))\n",
        "for i in range(len(pareto_front_population)):\n",
        "  sumatotal= sumar_tamaños_por_fila(itempool, pareto_front_population[i].chromosome,plocal=0,pglobal=0)\n",
        "  sum02[i] = sumatotal[2]\n",
        "  sum03[i] = sumatotal[3]\n",
        "  if sumatotal[2] > 440 and sumatotal[2] < 501 :\n",
        "    print(sumatotal)\n",
        "    print(pareto_front_population[i].chromosome)\n",
        "    print(i)"
      ],
      "metadata": {
        "colab": {
          "base_uri": "https://localhost:8080/"
        },
        "id": "SsyTjC-WFs2X",
        "outputId": "ddf42c58-f9f6-44df-b564-bb691c563a08"
      },
      "execution_count": null,
      "outputs": [
        {
          "output_type": "stream",
          "name": "stdout",
          "text": [
            "[98, 136, 444, 670]\n",
            "[[0. 0. 0. 1. 0. 0. 1. 1. 0. 1.]\n",
            " [1. 0. 0. 1. 1. 0. 1. 1. 0. 0.]\n",
            " [0. 1. 0. 1. 1. 0. 1. 0. 0. 0.]\n",
            " [0. 0. 1. 1. 1. 0. 0. 0. 0. 1.]\n",
            " [1. 1. 0. 0. 1. 1. 0. 0. 0. 1.]]\n",
            "25\n",
            "[94, 140, 458, 656]\n",
            "[[1. 0. 0. 1. 0. 0. 1. 1. 0. 1.]\n",
            " [0. 1. 0. 1. 1. 0. 1. 0. 0. 0.]\n",
            " [1. 1. 0. 0. 1. 0. 1. 1. 0. 0.]\n",
            " [0. 0. 1. 1. 1. 0. 0. 0. 0. 1.]\n",
            " [0. 0. 0. 1. 1. 1. 0. 0. 0. 0.]]\n",
            "59\n",
            "[87, 147, 463, 651]\n",
            "[[1. 0. 0. 0. 1. 0. 1. 0. 0. 0.]\n",
            " [0. 1. 0. 1. 1. 1. 0. 1. 0. 0.]\n",
            " [0. 1. 0. 0. 1. 0. 0. 1. 0. 1.]\n",
            " [0. 0. 1. 0. 0. 0. 1. 1. 0. 1.]\n",
            " [0. 1. 0. 1. 1. 0. 0. 0. 0. 0.]]\n",
            "66\n",
            "[94, 140, 472, 642]\n",
            "[[1. 1. 0. 1. 0. 0. 1. 0. 0. 0.]\n",
            " [0. 1. 0. 1. 1. 0. 1. 0. 1. 0.]\n",
            " [0. 1. 0. 0. 1. 0. 1. 0. 1. 0.]\n",
            " [0. 0. 1. 1. 1. 0. 0. 1. 0. 1.]\n",
            " [0. 0. 0. 1. 1. 1. 0. 0. 0. 0.]]\n",
            "170\n"
          ]
        }
      ]
    },
    {
      "cell_type": "code",
      "source": [
        "plt.plot(sum02,\"*\", color='blue')\n",
        "plt.plot(sum03,\"x\", color='red')\n",
        "#plt.xlabel('S')\n",
        "plt.ylabel('Valor')"
      ],
      "metadata": {
        "colab": {
          "base_uri": "https://localhost:8080/",
          "height": 447
        },
        "id": "xmjvGJD4YleG",
        "outputId": "45d1caff-b810-4f6a-909b-499482798132"
      },
      "execution_count": null,
      "outputs": [
        {
          "output_type": "execute_result",
          "data": {
            "text/plain": [
              "Text(0, 0.5, 'Valor')"
            ]
          },
          "metadata": {},
          "execution_count": 31
        },
        {
          "output_type": "display_data",
          "data": {
            "text/plain": [
              "<Figure size 640x480 with 1 Axes>"
            ],
            "image/png": "[encoded data removed]"
          },
          "metadata": {}
        }
      ]
    },
    {
      "cell_type": "code",
      "source": [
        "sumar_tamaños_por_fila(itempool, pareto_front_population[59].chromosome,plocal=1,pglobal=1)"
      ],
      "metadata": {
        "colab": {
          "base_uri": "https://localhost:8080/"
        },
        "id": "dKgBqZn8gYye",
        "outputId": "c874f5c2-2c03-4393-a336-a817794df907"
      },
      "execution_count": null,
      "outputs": [
        {
          "output_type": "stream",
          "name": "stdout",
          "text": [
            "Suma de asignados: 96, Suma de no asignados: 109\n",
            "Suma de asignados: 68, Suma de no asignados: 142\n",
            "Suma de asignados: 109, Suma de no asignados: 110\n",
            "Suma de asignados: 91, Suma de no asignados: 155\n",
            "Suma de asignados: 94, Suma de no asignados: 140\n",
            "Suma total de asignados: 458, Suma total de no asignados: 656\n"
          ]
        },
        {
          "output_type": "execute_result",
          "data": {
            "text/plain": [
              "[94, 140, 458, 656]"
            ]
          },
          "metadata": {},
          "execution_count": 38
        }
      ]
    },
    {
      "cell_type": "markdown",
      "source": [
        "## final"
      ],
      "metadata": {
        "id": "L-hdq_0yNkV6"
      }
    },
    {
      "cell_type": "code",
      "source": [
        "len(pareto_front_population)"
      ],
      "metadata": {
        "colab": {
          "base_uri": "https://localhost:8080/"
        },
        "id": "6xs4kxk3_XL0",
        "outputId": "0146708e-571c-4847-9697-92c72cfea4ec"
      },
      "execution_count": null,
      "outputs": [
        {
          "output_type": "execute_result",
          "data": {
            "text/plain": [
              "200"
            ]
          },
          "metadata": {},
          "execution_count": 33
        }
      ]
    }
  ]
}